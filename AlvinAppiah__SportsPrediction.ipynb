{
  "cells": [
    {
      "cell_type": "code",
      "execution_count": 254,
      "id": "EV_dB_uUXQkZ",
      "metadata": {
        "id": "EV_dB_uUXQkZ",
        "colab": {
          "base_uri": "https://localhost:8080/"
        },
        "outputId": "3b310c49-875b-4963-c9ad-ccbdc0cad274"
      },
      "outputs": [
        {
          "output_type": "stream",
          "name": "stdout",
          "text": [
            "Drive already mounted at /content/drive; to attempt to forcibly remount, call drive.mount(\"/content/drive\", force_remount=True).\n"
          ]
        }
      ],
      "source": [
        "from google.colab import drive\n",
        "drive.mount('/content/drive')"
      ]
    },
    {
      "cell_type": "code",
      "execution_count": 255,
      "id": "70a5f00e-88e3-47ee-bd04-63c77b33fee3",
      "metadata": {
        "id": "70a5f00e-88e3-47ee-bd04-63c77b33fee3"
      },
      "outputs": [],
      "source": [
        "import pandas as pd\n",
        "import numpy as np\n",
        "import matplotlib.pyplot as plt\n",
        "import seaborn as sns\n",
        "from sklearn.preprocessing import StandardScaler"
      ]
    },
    {
      "cell_type": "markdown",
      "id": "56c33e47-f3e1-4b1a-953e-f28e9a98b059",
      "metadata": {
        "id": "56c33e47-f3e1-4b1a-953e-f28e9a98b059"
      },
      "source": [
        "# Question 1"
      ]
    },
    {
      "cell_type": "code",
      "execution_count": 256,
      "id": "0380b0e4-a979-488f-94cb-a2b00b64ac52",
      "metadata": {
        "id": "0380b0e4-a979-488f-94cb-a2b00b64ac52",
        "colab": {
          "base_uri": "https://localhost:8080/"
        },
        "outputId": "4e2e60b7-38cc-4778-a45b-f11628694ac6"
      },
      "outputs": [
        {
          "output_type": "stream",
          "name": "stderr",
          "text": [
            "<ipython-input-256-6ce202a2f62b>:1: DtypeWarning: Columns (108) have mixed types. Specify dtype option on import or set low_memory=False.\n",
            "  fifa = pd.read_csv(\"/content/drive/MyDrive/FIFA 2023/male_players (legacy).csv\")\n"
          ]
        }
      ],
      "source": [
        "fifa = pd.read_csv(\"/content/drive/MyDrive/FIFA 2023/male_players (legacy).csv\")"
      ]
    },
    {
      "cell_type": "code",
      "execution_count": 257,
      "id": "bd2399da-a7a0-4ada-ba27-c8ffc1ed671e",
      "metadata": {
        "id": "bd2399da-a7a0-4ada-ba27-c8ffc1ed671e"
      },
      "outputs": [],
      "source": [
        "threshold = int(0.3 * 100)\n",
        "new_fifa = fifa.dropna(thresh = threshold)"
      ]
    },
    {
      "cell_type": "code",
      "execution_count": 258,
      "id": "29ef223b-23ce-4bd8-9a65-50b22c4b0e0e",
      "metadata": {
        "id": "29ef223b-23ce-4bd8-9a65-50b22c4b0e0e"
      },
      "outputs": [],
      "source": [
        "numeric_data= new_fifa.select_dtypes(include=['int64','float64'])"
      ]
    },
    {
      "cell_type": "code",
      "execution_count": 259,
      "id": "90f9c19c-131e-4f48-8519-b50cffbf0bdc",
      "metadata": {
        "id": "90f9c19c-131e-4f48-8519-b50cffbf0bdc"
      },
      "outputs": [],
      "source": [
        "#drops goalkeeping column\n",
        "new_fifa = new_fifa.drop(columns = ['goalkeeping_speed'])"
      ]
    },
    {
      "cell_type": "code",
      "execution_count": 260,
      "id": "e3155113-3b2d-41b2-a55f-a41e626dfa16",
      "metadata": {
        "id": "e3155113-3b2d-41b2-a55f-a41e626dfa16"
      },
      "outputs": [],
      "source": [
        "#Separates data into only integers and floats\n",
        "numeric_data= new_fifa.select_dtypes(include=['int64','float64'])"
      ]
    },
    {
      "cell_type": "code",
      "execution_count": 261,
      "id": "0c0251cc-c5b8-4a02-a331-f37915351942",
      "metadata": {
        "id": "0c0251cc-c5b8-4a02-a331-f37915351942"
      },
      "outputs": [],
      "source": [
        "#Separates data into only strings\n",
        "non_numeric = new_fifa.select_dtypes(include = ['object'])"
      ]
    },
    {
      "cell_type": "code",
      "execution_count": 262,
      "id": "758054f4-afdb-4e0f-8eaf-3bcbfbe4fbd6",
      "metadata": {
        "id": "758054f4-afdb-4e0f-8eaf-3bcbfbe4fbd6"
      },
      "outputs": [],
      "source": [
        "#drops unessecary columns\n",
        "new_fifa = new_fifa.drop(columns = ['club_loaned_from', 'player_url', 'fifa_update_date', 'player_face_url', 'real_face', 'short_name', 'dob'])"
      ]
    },
    {
      "cell_type": "code",
      "execution_count": 264,
      "id": "oEjH1xmzW1hr",
      "metadata": {
        "id": "oEjH1xmzW1hr"
      },
      "outputs": [],
      "source": [
        "from sklearn.impute import SimpleImputer"
      ]
    },
    {
      "cell_type": "code",
      "execution_count": 265,
      "id": "QkbCz_cJW6XA",
      "metadata": {
        "id": "QkbCz_cJW6XA"
      },
      "outputs": [],
      "source": [
        "sc = SimpleImputer(strategy='median')"
      ]
    },
    {
      "cell_type": "code",
      "execution_count": 266,
      "id": "1aHbOby8XfKT",
      "metadata": {
        "id": "1aHbOby8XfKT"
      },
      "outputs": [],
      "source": [
        "#Fills all nas in the numeric data with the median values\n",
        "numeric_data_filled = sc.fit_transform(numeric_data)"
      ]
    },
    {
      "cell_type": "code",
      "execution_count": 267,
      "id": "kppecuXavdro",
      "metadata": {
        "id": "kppecuXavdro"
      },
      "outputs": [],
      "source": [
        "#Creates a dataframe of the data with the filled values\n",
        "numeric_data_df = pd.DataFrame(numeric_data_filled, columns=numeric_data.columns)"
      ]
    },
    {
      "cell_type": "code",
      "execution_count": 268,
      "id": "m7KBk6iBYz7n",
      "metadata": {
        "id": "m7KBk6iBYz7n"
      },
      "outputs": [],
      "source": [
        "sc1 = SimpleImputer(strategy='most_frequent')"
      ]
    },
    {
      "cell_type": "code",
      "execution_count": 269,
      "id": "WV60QlChZBFD",
      "metadata": {
        "id": "WV60QlChZBFD"
      },
      "outputs": [],
      "source": [
        "#fills all nas with the most frequent values\n",
        "non_numeric_filled = sc1.fit_transform(non_numeric)"
      ]
    },
    {
      "cell_type": "code",
      "execution_count": 270,
      "id": "WyANEdR4wP_X",
      "metadata": {
        "id": "WyANEdR4wP_X"
      },
      "outputs": [],
      "source": [
        "#creates a dataframe of data with filled values\n",
        "non_numeric_df = pd.DataFrame(non_numeric_filled, columns=non_numeric.columns)"
      ]
    },
    {
      "cell_type": "code",
      "execution_count": 271,
      "id": "aFMfefx8ZG1u",
      "metadata": {
        "id": "aFMfefx8ZG1u"
      },
      "outputs": [],
      "source": [
        "# Adds the dataframes after filling the nas\n",
        "Xfilled = pd.concat([non_numeric_df,numeric_data_df], axis = 1)"
      ]
    },
    {
      "cell_type": "markdown",
      "id": "9588b7ea-70a4-4379-9d9f-ae55f7b20670",
      "metadata": {
        "id": "9588b7ea-70a4-4379-9d9f-ae55f7b20670"
      },
      "source": [
        "# Question 2"
      ]
    },
    {
      "cell_type": "code",
      "execution_count": 272,
      "id": "8a76b9cf-2527-4583-adca-a1a16c91b978",
      "metadata": {
        "id": "8a76b9cf-2527-4583-adca-a1a16c91b978"
      },
      "outputs": [],
      "source": [
        "from sklearn.preprocessing import LabelEncoder, OneHotEncoder"
      ]
    },
    {
      "cell_type": "code",
      "execution_count": 273,
      "id": "RRbHp1Lx5BKT",
      "metadata": {
        "id": "RRbHp1Lx5BKT"
      },
      "outputs": [],
      "source": [
        "categorical_list = non_numeric.columns.tolist()"
      ]
    },
    {
      "cell_type": "code",
      "execution_count": 274,
      "id": "18696802-e023-4e04-a482-69add2ca4918",
      "metadata": {
        "id": "18696802-e023-4e04-a482-69add2ca4918"
      },
      "outputs": [],
      "source": [
        "#encodes all the strings in the data\n",
        "def encode(column_list):\n",
        "    label_encoder = LabelEncoder()\n",
        "    integer_encoded = label_encoder.fit_transform(column_list)\n",
        "    integer_encoded = integer_encoded.reshape(len(integer_encoded), 1)\n",
        "\n",
        "    return integer_encoded"
      ]
    },
    {
      "cell_type": "code",
      "execution_count": 275,
      "id": "qiF_WDFE5Zuq",
      "metadata": {
        "id": "qiF_WDFE5Zuq"
      },
      "outputs": [],
      "source": [
        "#encodes all strings\n",
        "for i in categorical_list:\n",
        "  Xfilled[i] = Xfilled[i].astype(str)\n",
        "  Xfilled[i] = Xfilled[i].tolist()\n",
        "  Xfilled[i] = encode(Xfilled[i])"
      ]
    },
    {
      "cell_type": "code",
      "execution_count": 277,
      "id": "99cc7a8d-20b2-47a6-a42b-d154bdb46fc4",
      "metadata": {
        "id": "99cc7a8d-20b2-47a6-a42b-d154bdb46fc4"
      },
      "outputs": [],
      "source": [
        "corr_matrix = Xfilled.corr()"
      ]
    },
    {
      "cell_type": "code",
      "execution_count": 278,
      "id": "f253cd67-b89a-414b-98e2-5898b32b9964",
      "metadata": {
        "id": "f253cd67-b89a-414b-98e2-5898b32b9964"
      },
      "outputs": [],
      "source": [
        "correlations = corr_matrix['overall'].sort_values(ascending=False)"
      ]
    },
    {
      "cell_type": "code",
      "execution_count": 279,
      "id": "17d54133-9562-4f40-b37e-971c5594dc21",
      "metadata": {
        "id": "17d54133-9562-4f40-b37e-971c5594dc21"
      },
      "outputs": [],
      "source": [
        "#Creates a file with all the correlations\n",
        "correlations.to_csv('correlations')"
      ]
    },
    {
      "cell_type": "markdown",
      "id": "953ce3a9-6363-4c9d-b8b5-5ff698ae1a15",
      "metadata": {
        "id": "953ce3a9-6363-4c9d-b8b5-5ff698ae1a15"
      },
      "source": [
        "**The correlation cutoff for this model is 0.5. Since the variables do not have have a strong negative correlation,**\n",
        "**I will be using 10 features with a correlation greater than or equal 0.5 when rounded up. The variables being used are**\n",
        "* movement_reactions\n",
        "* potential\n",
        "* passing\n",
        "* wage_eur\n",
        "* mentality_composure\n",
        "* value_eur\n",
        "* dribbling\n",
        "* Attacking_short_passing\n",
        "* mentality_vision\n",
        "* international_reputation"
      ]
    },
    {
      "cell_type": "code",
      "execution_count": 281,
      "id": "425b75bb-1cde-4fd1-a1bb-b59f77af2786",
      "metadata": {
        "id": "425b75bb-1cde-4fd1-a1bb-b59f77af2786"
      },
      "outputs": [],
      "source": [
        "x = Xfilled[['movement_reactions','potential','passing','wage_eur',\n",
        "             'value_eur','dribbling','attacking_short_passing','mentality_composure',\n",
        "             'mentality_vision', 'international_reputation']]"
      ]
    },
    {
      "cell_type": "code",
      "execution_count": 282,
      "id": "438fceb7-6a65-4a63-b89c-60ae3f9c35f7",
      "metadata": {
        "id": "438fceb7-6a65-4a63-b89c-60ae3f9c35f7"
      },
      "outputs": [],
      "source": [
        "y = Xfilled['overall']"
      ]
    },
    {
      "cell_type": "code",
      "execution_count": 283,
      "id": "r5_EbeJ9OqrN",
      "metadata": {
        "id": "r5_EbeJ9OqrN"
      },
      "outputs": [],
      "source": [
        "from sklearn.model_selection import train_test_split, cross_val_score, KFold"
      ]
    },
    {
      "cell_type": "code",
      "execution_count": 284,
      "id": "WVkQyF06vzBB",
      "metadata": {
        "id": "WVkQyF06vzBB"
      },
      "outputs": [],
      "source": [
        "n_folds = 10\n",
        "kf = KFold(n_splits=n_folds, shuffle=True, random_state=42)"
      ]
    },
    {
      "cell_type": "code",
      "execution_count": 285,
      "id": "aRHGb6sIOsE7",
      "metadata": {
        "id": "aRHGb6sIOsE7"
      },
      "outputs": [],
      "source": [
        "#random_state = Means we want to randomize the data\n",
        "Xtrain,Xtest,Ytrain,Ytest = train_test_split(x,y,test_size=0.2, random_state=42)"
      ]
    },
    {
      "cell_type": "markdown",
      "id": "OvwD57fHCGFH",
      "metadata": {
        "id": "OvwD57fHCGFH"
      },
      "source": [
        "# Question 3"
      ]
    },
    {
      "cell_type": "markdown",
      "id": "biYUgvv_DB_R",
      "metadata": {
        "id": "biYUgvv_DB_R"
      },
      "source": [
        "## XGB Regressor"
      ]
    },
    {
      "cell_type": "code",
      "execution_count": 286,
      "id": "uKYuVVjG3QeB",
      "metadata": {
        "id": "uKYuVVjG3QeB"
      },
      "outputs": [],
      "source": [
        "from sklearn.metrics import mean_absolute_error, mean_squared_error, mean_squared_log_error, r2_score"
      ]
    },
    {
      "cell_type": "code",
      "execution_count": 287,
      "id": "GmZkujcJrhlh",
      "metadata": {
        "id": "GmZkujcJrhlh"
      },
      "outputs": [],
      "source": [
        "from sklearn.model_selection import GridSearchCV"
      ]
    },
    {
      "cell_type": "code",
      "execution_count": 209,
      "id": "H5nXM0cC7uwR",
      "metadata": {
        "id": "H5nXM0cC7uwR",
        "colab": {
          "base_uri": "https://localhost:8080/"
        },
        "outputId": "6bee9b5f-9c32-4e4b-bdb0-bc6cf7e68154"
      },
      "outputs": [
        {
          "output_type": "stream",
          "name": "stdout",
          "text": [
            "\n",
            "Mean Absolute Error = 1.0751832135225259,\n",
            "Mean Squared Error = 2.1755292620240234,\n",
            "Root Mean Squared Error = 1.4749675460917855,\n",
            "R2 Score = 0.954425974140603\n",
            "          \n",
            "Test: 0.9561062548991788\n"
          ]
        }
      ],
      "source": [
        "# xgb regressor to train model\n",
        "import xgboost as xgb\n",
        "model1 = xgb.XGBRegressor()\n",
        "model1_scores = cross_val_score(model1, Xtrain, Ytrain, cv=kf, scoring='neg_mean_squared_error')\n",
        "model1.fit(Xtrain, Ytrain)\n",
        "xgb_test_score = model1.score(Xtest, Ytest)\n",
        "y_pred = model1.predict(Xtest)\n",
        "print(f\"\"\"\n",
        "Mean Absolute Error = {mean_absolute_error(y_pred,Ytest)},\n",
        "Mean Squared Error = {mean_squared_error(y_pred,Ytest)},\n",
        "Root Mean Squared Error = {np.sqrt(mean_squared_error(y_pred,Ytest))},\n",
        "R2 Score = {r2_score(y_pred, Ytest)}\n",
        "          \"\"\")\n",
        "print(f\"Test: {xgb_test_score}\")"
      ]
    },
    {
      "cell_type": "code",
      "execution_count": 210,
      "id": "JuiS_h-xiG9P",
      "metadata": {
        "id": "JuiS_h-xiG9P",
        "colab": {
          "base_uri": "https://localhost:8080/"
        },
        "outputId": "9014ca69-2d3e-4d01-90c0-84ac11817505"
      },
      "outputs": [
        {
          "output_type": "stream",
          "name": "stdout",
          "text": [
            "\n",
            "Mean Absolute Error = 1.326467939273926,\n",
            "Mean Squared Error = 3.0826177569316786,\n",
            "Root Mean Squared Error = 1.7557385217997805,\n",
            "R2 Score = 0.932559141900828\n",
            "          \n",
            "Test: 0.9378047262209015\n"
          ]
        }
      ],
      "source": [
        "# gradient boosting regressor to train model\n",
        "from sklearn.ensemble import GradientBoostingRegressor\n",
        "model2 = GradientBoostingRegressor()\n",
        "model2_scores = cross_val_score(model2, Xtrain, Ytrain, cv=kf, scoring='neg_mean_squared_error')\n",
        "model2.fit(Xtrain, Ytrain)\n",
        "grad_test_score = model2.score(Xtest, Ytest)\n",
        "y_pred2 = model2.predict(Xtest)\n",
        "print(f\"\"\"\n",
        "Mean Absolute Error = {mean_absolute_error(y_pred2,Ytest)},\n",
        "Mean Squared Error = {mean_squared_error(y_pred2,Ytest)},\n",
        "Root Mean Squared Error = {np.sqrt(mean_squared_error(y_pred2,Ytest))},\n",
        "R2 Score = {r2_score(y_pred2, Ytest)}\n",
        "          \"\"\")\n",
        "print(f\"Test: {grad_test_score}\")"
      ]
    },
    {
      "cell_type": "markdown",
      "id": "EltjRTvYcyPu",
      "metadata": {
        "id": "EltjRTvYcyPu"
      },
      "source": [
        "## Grid Search"
      ]
    },
    {
      "cell_type": "code",
      "source": [
        "parameters = {\n",
        "    'gb__n_estimators': [100, 200],\n",
        "    'gb__max_depth': [3, 4, 5],\n",
        "    'gb__learning_rate': [0.01, 0.1],\n",
        "}\n",
        "grid_search = GridSearchCV(estimator = xgb.XGBRegressor(), param_grid = parameters, cv=5, scoring='neg_mean_squared_error')"
      ],
      "metadata": {
        "id": "6rtkgekyaJau"
      },
      "id": "6rtkgekyaJau",
      "execution_count": 289,
      "outputs": []
    },
    {
      "cell_type": "code",
      "source": [
        "#Fit the grid search on the training data\n",
        "grid_search.fit(Xtrain, Ytrain)\n",
        "#Gets the best parameters\n",
        "best_params = grid_search.best_params_\n",
        "best_score = np.sqrt(-grid_search.best_score_)\n",
        "\n",
        "print(\"Best Parameters:\", best_params)\n",
        "print(\"Best CV RMSE: %.4f\" % best_score)\n",
        "#gets the best model\n",
        "best_model = grid_search.best_estimator_\n",
        "stack_y_pred = best_model.predict(Xtest)\n",
        "stack_test_score = best_model.score(Xtest, Ytest)\n",
        "\n",
        "print(f\"Test: {stack_test_score}\")\n",
        "print(f\"\"\"\n",
        "Mean Absolute Error = {mean_absolute_error(stack_y_pred, Ytest)},\n",
        "Mean Squared Error = {mean_squared_error(stack_y_pred, Ytest)},\n",
        "Root Mean Squared Error = {np.sqrt(mean_squared_error(stack_y_pred, Ytest))},\n",
        "R2 Score = {r2_score(stack_y_pred, Ytest)}\n",
        "\"\"\")\n",
        "\n",
        "print(f\"Test Score: {stack_test_score}\")"
      ],
      "metadata": {
        "colab": {
          "base_uri": "https://localhost:8080/"
        },
        "id": "8XX4lMpxbFCx",
        "outputId": "e16c307f-898e-4520-d174-bafb316d82bb"
      },
      "id": "8XX4lMpxbFCx",
      "execution_count": 291,
      "outputs": [
        {
          "output_type": "stream",
          "name": "stderr",
          "text": [
            "/usr/local/lib/python3.10/dist-packages/xgboost/core.py:160: UserWarning: [22:24:55] WARNING: /workspace/src/learner.cc:742: \n",
            "Parameters: { \"gb__learning_rate\", \"gb__max_depth\", \"gb__n_estimators\" } are not used.\n",
            "\n",
            "  warnings.warn(smsg, UserWarning)\n",
            "/usr/local/lib/python3.10/dist-packages/xgboost/core.py:160: UserWarning: [22:24:56] WARNING: /workspace/src/learner.cc:742: \n",
            "Parameters: { \"gb__learning_rate\", \"gb__max_depth\", \"gb__n_estimators\" } are not used.\n",
            "\n",
            "  warnings.warn(smsg, UserWarning)\n",
            "/usr/local/lib/python3.10/dist-packages/xgboost/core.py:160: UserWarning: [22:24:57] WARNING: /workspace/src/learner.cc:742: \n",
            "Parameters: { \"gb__learning_rate\", \"gb__max_depth\", \"gb__n_estimators\" } are not used.\n",
            "\n",
            "  warnings.warn(smsg, UserWarning)\n",
            "/usr/local/lib/python3.10/dist-packages/xgboost/core.py:160: UserWarning: [22:24:58] WARNING: /workspace/src/learner.cc:742: \n",
            "Parameters: { \"gb__learning_rate\", \"gb__max_depth\", \"gb__n_estimators\" } are not used.\n",
            "\n",
            "  warnings.warn(smsg, UserWarning)\n",
            "/usr/local/lib/python3.10/dist-packages/xgboost/core.py:160: UserWarning: [22:24:58] WARNING: /workspace/src/learner.cc:742: \n",
            "Parameters: { \"gb__learning_rate\", \"gb__max_depth\", \"gb__n_estimators\" } are not used.\n",
            "\n",
            "  warnings.warn(smsg, UserWarning)\n",
            "/usr/local/lib/python3.10/dist-packages/xgboost/core.py:160: UserWarning: [22:24:59] WARNING: /workspace/src/learner.cc:742: \n",
            "Parameters: { \"gb__learning_rate\", \"gb__max_depth\", \"gb__n_estimators\" } are not used.\n",
            "\n",
            "  warnings.warn(smsg, UserWarning)\n",
            "/usr/local/lib/python3.10/dist-packages/xgboost/core.py:160: UserWarning: [22:25:00] WARNING: /workspace/src/learner.cc:742: \n",
            "Parameters: { \"gb__learning_rate\", \"gb__max_depth\", \"gb__n_estimators\" } are not used.\n",
            "\n",
            "  warnings.warn(smsg, UserWarning)\n",
            "/usr/local/lib/python3.10/dist-packages/xgboost/core.py:160: UserWarning: [22:25:01] WARNING: /workspace/src/learner.cc:742: \n",
            "Parameters: { \"gb__learning_rate\", \"gb__max_depth\", \"gb__n_estimators\" } are not used.\n",
            "\n",
            "  warnings.warn(smsg, UserWarning)\n",
            "/usr/local/lib/python3.10/dist-packages/xgboost/core.py:160: UserWarning: [22:25:02] WARNING: /workspace/src/learner.cc:742: \n",
            "Parameters: { \"gb__learning_rate\", \"gb__max_depth\", \"gb__n_estimators\" } are not used.\n",
            "\n",
            "  warnings.warn(smsg, UserWarning)\n",
            "/usr/local/lib/python3.10/dist-packages/xgboost/core.py:160: UserWarning: [22:25:03] WARNING: /workspace/src/learner.cc:742: \n",
            "Parameters: { \"gb__learning_rate\", \"gb__max_depth\", \"gb__n_estimators\" } are not used.\n",
            "\n",
            "  warnings.warn(smsg, UserWarning)\n",
            "/usr/local/lib/python3.10/dist-packages/xgboost/core.py:160: UserWarning: [22:25:03] WARNING: /workspace/src/learner.cc:742: \n",
            "Parameters: { \"gb__learning_rate\", \"gb__max_depth\", \"gb__n_estimators\" } are not used.\n",
            "\n",
            "  warnings.warn(smsg, UserWarning)\n",
            "/usr/local/lib/python3.10/dist-packages/xgboost/core.py:160: UserWarning: [22:25:06] WARNING: /workspace/src/learner.cc:742: \n",
            "Parameters: { \"gb__learning_rate\", \"gb__max_depth\", \"gb__n_estimators\" } are not used.\n",
            "\n",
            "  warnings.warn(smsg, UserWarning)\n",
            "/usr/local/lib/python3.10/dist-packages/xgboost/core.py:160: UserWarning: [22:25:08] WARNING: /workspace/src/learner.cc:742: \n",
            "Parameters: { \"gb__learning_rate\", \"gb__max_depth\", \"gb__n_estimators\" } are not used.\n",
            "\n",
            "  warnings.warn(smsg, UserWarning)\n",
            "/usr/local/lib/python3.10/dist-packages/xgboost/core.py:160: UserWarning: [22:25:09] WARNING: /workspace/src/learner.cc:742: \n",
            "Parameters: { \"gb__learning_rate\", \"gb__max_depth\", \"gb__n_estimators\" } are not used.\n",
            "\n",
            "  warnings.warn(smsg, UserWarning)\n",
            "/usr/local/lib/python3.10/dist-packages/xgboost/core.py:160: UserWarning: [22:25:10] WARNING: /workspace/src/learner.cc:742: \n",
            "Parameters: { \"gb__learning_rate\", \"gb__max_depth\", \"gb__n_estimators\" } are not used.\n",
            "\n",
            "  warnings.warn(smsg, UserWarning)\n",
            "/usr/local/lib/python3.10/dist-packages/xgboost/core.py:160: UserWarning: [22:25:11] WARNING: /workspace/src/learner.cc:742: \n",
            "Parameters: { \"gb__learning_rate\", \"gb__max_depth\", \"gb__n_estimators\" } are not used.\n",
            "\n",
            "  warnings.warn(smsg, UserWarning)\n",
            "/usr/local/lib/python3.10/dist-packages/xgboost/core.py:160: UserWarning: [22:25:12] WARNING: /workspace/src/learner.cc:742: \n",
            "Parameters: { \"gb__learning_rate\", \"gb__max_depth\", \"gb__n_estimators\" } are not used.\n",
            "\n",
            "  warnings.warn(smsg, UserWarning)\n",
            "/usr/local/lib/python3.10/dist-packages/xgboost/core.py:160: UserWarning: [22:25:13] WARNING: /workspace/src/learner.cc:742: \n",
            "Parameters: { \"gb__learning_rate\", \"gb__max_depth\", \"gb__n_estimators\" } are not used.\n",
            "\n",
            "  warnings.warn(smsg, UserWarning)\n",
            "/usr/local/lib/python3.10/dist-packages/xgboost/core.py:160: UserWarning: [22:25:13] WARNING: /workspace/src/learner.cc:742: \n",
            "Parameters: { \"gb__learning_rate\", \"gb__max_depth\", \"gb__n_estimators\" } are not used.\n",
            "\n",
            "  warnings.warn(smsg, UserWarning)\n",
            "/usr/local/lib/python3.10/dist-packages/xgboost/core.py:160: UserWarning: [22:25:14] WARNING: /workspace/src/learner.cc:742: \n",
            "Parameters: { \"gb__learning_rate\", \"gb__max_depth\", \"gb__n_estimators\" } are not used.\n",
            "\n",
            "  warnings.warn(smsg, UserWarning)\n",
            "/usr/local/lib/python3.10/dist-packages/xgboost/core.py:160: UserWarning: [22:25:15] WARNING: /workspace/src/learner.cc:742: \n",
            "Parameters: { \"gb__learning_rate\", \"gb__max_depth\", \"gb__n_estimators\" } are not used.\n",
            "\n",
            "  warnings.warn(smsg, UserWarning)\n",
            "/usr/local/lib/python3.10/dist-packages/xgboost/core.py:160: UserWarning: [22:25:16] WARNING: /workspace/src/learner.cc:742: \n",
            "Parameters: { \"gb__learning_rate\", \"gb__max_depth\", \"gb__n_estimators\" } are not used.\n",
            "\n",
            "  warnings.warn(smsg, UserWarning)\n",
            "/usr/local/lib/python3.10/dist-packages/xgboost/core.py:160: UserWarning: [22:25:17] WARNING: /workspace/src/learner.cc:742: \n",
            "Parameters: { \"gb__learning_rate\", \"gb__max_depth\", \"gb__n_estimators\" } are not used.\n",
            "\n",
            "  warnings.warn(smsg, UserWarning)\n",
            "/usr/local/lib/python3.10/dist-packages/xgboost/core.py:160: UserWarning: [22:25:17] WARNING: /workspace/src/learner.cc:742: \n",
            "Parameters: { \"gb__learning_rate\", \"gb__max_depth\", \"gb__n_estimators\" } are not used.\n",
            "\n",
            "  warnings.warn(smsg, UserWarning)\n",
            "/usr/local/lib/python3.10/dist-packages/xgboost/core.py:160: UserWarning: [22:25:22] WARNING: /workspace/src/learner.cc:742: \n",
            "Parameters: { \"gb__learning_rate\", \"gb__max_depth\", \"gb__n_estimators\" } are not used.\n",
            "\n",
            "  warnings.warn(smsg, UserWarning)\n",
            "/usr/local/lib/python3.10/dist-packages/xgboost/core.py:160: UserWarning: [22:25:22] WARNING: /workspace/src/learner.cc:742: \n",
            "Parameters: { \"gb__learning_rate\", \"gb__max_depth\", \"gb__n_estimators\" } are not used.\n",
            "\n",
            "  warnings.warn(smsg, UserWarning)\n",
            "/usr/local/lib/python3.10/dist-packages/xgboost/core.py:160: UserWarning: [22:25:23] WARNING: /workspace/src/learner.cc:742: \n",
            "Parameters: { \"gb__learning_rate\", \"gb__max_depth\", \"gb__n_estimators\" } are not used.\n",
            "\n",
            "  warnings.warn(smsg, UserWarning)\n",
            "/usr/local/lib/python3.10/dist-packages/xgboost/core.py:160: UserWarning: [22:25:24] WARNING: /workspace/src/learner.cc:742: \n",
            "Parameters: { \"gb__learning_rate\", \"gb__max_depth\", \"gb__n_estimators\" } are not used.\n",
            "\n",
            "  warnings.warn(smsg, UserWarning)\n",
            "/usr/local/lib/python3.10/dist-packages/xgboost/core.py:160: UserWarning: [22:25:25] WARNING: /workspace/src/learner.cc:742: \n",
            "Parameters: { \"gb__learning_rate\", \"gb__max_depth\", \"gb__n_estimators\" } are not used.\n",
            "\n",
            "  warnings.warn(smsg, UserWarning)\n",
            "/usr/local/lib/python3.10/dist-packages/xgboost/core.py:160: UserWarning: [22:25:26] WARNING: /workspace/src/learner.cc:742: \n",
            "Parameters: { \"gb__learning_rate\", \"gb__max_depth\", \"gb__n_estimators\" } are not used.\n",
            "\n",
            "  warnings.warn(smsg, UserWarning)\n",
            "/usr/local/lib/python3.10/dist-packages/xgboost/core.py:160: UserWarning: [22:25:27] WARNING: /workspace/src/learner.cc:742: \n",
            "Parameters: { \"gb__learning_rate\", \"gb__max_depth\", \"gb__n_estimators\" } are not used.\n",
            "\n",
            "  warnings.warn(smsg, UserWarning)\n",
            "/usr/local/lib/python3.10/dist-packages/xgboost/core.py:160: UserWarning: [22:25:27] WARNING: /workspace/src/learner.cc:742: \n",
            "Parameters: { \"gb__learning_rate\", \"gb__max_depth\", \"gb__n_estimators\" } are not used.\n",
            "\n",
            "  warnings.warn(smsg, UserWarning)\n",
            "/usr/local/lib/python3.10/dist-packages/xgboost/core.py:160: UserWarning: [22:25:28] WARNING: /workspace/src/learner.cc:742: \n",
            "Parameters: { \"gb__learning_rate\", \"gb__max_depth\", \"gb__n_estimators\" } are not used.\n",
            "\n",
            "  warnings.warn(smsg, UserWarning)\n",
            "/usr/local/lib/python3.10/dist-packages/xgboost/core.py:160: UserWarning: [22:25:29] WARNING: /workspace/src/learner.cc:742: \n",
            "Parameters: { \"gb__learning_rate\", \"gb__max_depth\", \"gb__n_estimators\" } are not used.\n",
            "\n",
            "  warnings.warn(smsg, UserWarning)\n",
            "/usr/local/lib/python3.10/dist-packages/xgboost/core.py:160: UserWarning: [22:25:30] WARNING: /workspace/src/learner.cc:742: \n",
            "Parameters: { \"gb__learning_rate\", \"gb__max_depth\", \"gb__n_estimators\" } are not used.\n",
            "\n",
            "  warnings.warn(smsg, UserWarning)\n",
            "/usr/local/lib/python3.10/dist-packages/xgboost/core.py:160: UserWarning: [22:25:31] WARNING: /workspace/src/learner.cc:742: \n",
            "Parameters: { \"gb__learning_rate\", \"gb__max_depth\", \"gb__n_estimators\" } are not used.\n",
            "\n",
            "  warnings.warn(smsg, UserWarning)\n",
            "/usr/local/lib/python3.10/dist-packages/xgboost/core.py:160: UserWarning: [22:25:32] WARNING: /workspace/src/learner.cc:742: \n",
            "Parameters: { \"gb__learning_rate\", \"gb__max_depth\", \"gb__n_estimators\" } are not used.\n",
            "\n",
            "  warnings.warn(smsg, UserWarning)\n",
            "/usr/local/lib/python3.10/dist-packages/xgboost/core.py:160: UserWarning: [22:25:36] WARNING: /workspace/src/learner.cc:742: \n",
            "Parameters: { \"gb__learning_rate\", \"gb__max_depth\", \"gb__n_estimators\" } are not used.\n",
            "\n",
            "  warnings.warn(smsg, UserWarning)\n",
            "/usr/local/lib/python3.10/dist-packages/xgboost/core.py:160: UserWarning: [22:25:37] WARNING: /workspace/src/learner.cc:742: \n",
            "Parameters: { \"gb__learning_rate\", \"gb__max_depth\", \"gb__n_estimators\" } are not used.\n",
            "\n",
            "  warnings.warn(smsg, UserWarning)\n",
            "/usr/local/lib/python3.10/dist-packages/xgboost/core.py:160: UserWarning: [22:25:37] WARNING: /workspace/src/learner.cc:742: \n",
            "Parameters: { \"gb__learning_rate\", \"gb__max_depth\", \"gb__n_estimators\" } are not used.\n",
            "\n",
            "  warnings.warn(smsg, UserWarning)\n",
            "/usr/local/lib/python3.10/dist-packages/xgboost/core.py:160: UserWarning: [22:25:38] WARNING: /workspace/src/learner.cc:742: \n",
            "Parameters: { \"gb__learning_rate\", \"gb__max_depth\", \"gb__n_estimators\" } are not used.\n",
            "\n",
            "  warnings.warn(smsg, UserWarning)\n",
            "/usr/local/lib/python3.10/dist-packages/xgboost/core.py:160: UserWarning: [22:25:39] WARNING: /workspace/src/learner.cc:742: \n",
            "Parameters: { \"gb__learning_rate\", \"gb__max_depth\", \"gb__n_estimators\" } are not used.\n",
            "\n",
            "  warnings.warn(smsg, UserWarning)\n",
            "/usr/local/lib/python3.10/dist-packages/xgboost/core.py:160: UserWarning: [22:25:40] WARNING: /workspace/src/learner.cc:742: \n",
            "Parameters: { \"gb__learning_rate\", \"gb__max_depth\", \"gb__n_estimators\" } are not used.\n",
            "\n",
            "  warnings.warn(smsg, UserWarning)\n",
            "/usr/local/lib/python3.10/dist-packages/xgboost/core.py:160: UserWarning: [22:25:41] WARNING: /workspace/src/learner.cc:742: \n",
            "Parameters: { \"gb__learning_rate\", \"gb__max_depth\", \"gb__n_estimators\" } are not used.\n",
            "\n",
            "  warnings.warn(smsg, UserWarning)\n",
            "/usr/local/lib/python3.10/dist-packages/xgboost/core.py:160: UserWarning: [22:25:42] WARNING: /workspace/src/learner.cc:742: \n",
            "Parameters: { \"gb__learning_rate\", \"gb__max_depth\", \"gb__n_estimators\" } are not used.\n",
            "\n",
            "  warnings.warn(smsg, UserWarning)\n",
            "/usr/local/lib/python3.10/dist-packages/xgboost/core.py:160: UserWarning: [22:25:42] WARNING: /workspace/src/learner.cc:742: \n",
            "Parameters: { \"gb__learning_rate\", \"gb__max_depth\", \"gb__n_estimators\" } are not used.\n",
            "\n",
            "  warnings.warn(smsg, UserWarning)\n",
            "/usr/local/lib/python3.10/dist-packages/xgboost/core.py:160: UserWarning: [22:25:43] WARNING: /workspace/src/learner.cc:742: \n",
            "Parameters: { \"gb__learning_rate\", \"gb__max_depth\", \"gb__n_estimators\" } are not used.\n",
            "\n",
            "  warnings.warn(smsg, UserWarning)\n",
            "/usr/local/lib/python3.10/dist-packages/xgboost/core.py:160: UserWarning: [22:25:44] WARNING: /workspace/src/learner.cc:742: \n",
            "Parameters: { \"gb__learning_rate\", \"gb__max_depth\", \"gb__n_estimators\" } are not used.\n",
            "\n",
            "  warnings.warn(smsg, UserWarning)\n",
            "/usr/local/lib/python3.10/dist-packages/xgboost/core.py:160: UserWarning: [22:25:45] WARNING: /workspace/src/learner.cc:742: \n",
            "Parameters: { \"gb__learning_rate\", \"gb__max_depth\", \"gb__n_estimators\" } are not used.\n",
            "\n",
            "  warnings.warn(smsg, UserWarning)\n",
            "/usr/local/lib/python3.10/dist-packages/xgboost/core.py:160: UserWarning: [22:25:48] WARNING: /workspace/src/learner.cc:742: \n",
            "Parameters: { \"gb__learning_rate\", \"gb__max_depth\", \"gb__n_estimators\" } are not used.\n",
            "\n",
            "  warnings.warn(smsg, UserWarning)\n",
            "/usr/local/lib/python3.10/dist-packages/xgboost/core.py:160: UserWarning: [22:25:50] WARNING: /workspace/src/learner.cc:742: \n",
            "Parameters: { \"gb__learning_rate\", \"gb__max_depth\", \"gb__n_estimators\" } are not used.\n",
            "\n",
            "  warnings.warn(smsg, UserWarning)\n",
            "/usr/local/lib/python3.10/dist-packages/xgboost/core.py:160: UserWarning: [22:25:51] WARNING: /workspace/src/learner.cc:742: \n",
            "Parameters: { \"gb__learning_rate\", \"gb__max_depth\", \"gb__n_estimators\" } are not used.\n",
            "\n",
            "  warnings.warn(smsg, UserWarning)\n",
            "/usr/local/lib/python3.10/dist-packages/xgboost/core.py:160: UserWarning: [22:25:52] WARNING: /workspace/src/learner.cc:742: \n",
            "Parameters: { \"gb__learning_rate\", \"gb__max_depth\", \"gb__n_estimators\" } are not used.\n",
            "\n",
            "  warnings.warn(smsg, UserWarning)\n",
            "/usr/local/lib/python3.10/dist-packages/xgboost/core.py:160: UserWarning: [22:25:52] WARNING: /workspace/src/learner.cc:742: \n",
            "Parameters: { \"gb__learning_rate\", \"gb__max_depth\", \"gb__n_estimators\" } are not used.\n",
            "\n",
            "  warnings.warn(smsg, UserWarning)\n",
            "/usr/local/lib/python3.10/dist-packages/xgboost/core.py:160: UserWarning: [22:25:53] WARNING: /workspace/src/learner.cc:742: \n",
            "Parameters: { \"gb__learning_rate\", \"gb__max_depth\", \"gb__n_estimators\" } are not used.\n",
            "\n",
            "  warnings.warn(smsg, UserWarning)\n",
            "/usr/local/lib/python3.10/dist-packages/xgboost/core.py:160: UserWarning: [22:25:54] WARNING: /workspace/src/learner.cc:742: \n",
            "Parameters: { \"gb__learning_rate\", \"gb__max_depth\", \"gb__n_estimators\" } are not used.\n",
            "\n",
            "  warnings.warn(smsg, UserWarning)\n",
            "/usr/local/lib/python3.10/dist-packages/xgboost/core.py:160: UserWarning: [22:25:55] WARNING: /workspace/src/learner.cc:742: \n",
            "Parameters: { \"gb__learning_rate\", \"gb__max_depth\", \"gb__n_estimators\" } are not used.\n",
            "\n",
            "  warnings.warn(smsg, UserWarning)\n",
            "/usr/local/lib/python3.10/dist-packages/xgboost/core.py:160: UserWarning: [22:25:56] WARNING: /workspace/src/learner.cc:742: \n",
            "Parameters: { \"gb__learning_rate\", \"gb__max_depth\", \"gb__n_estimators\" } are not used.\n",
            "\n",
            "  warnings.warn(smsg, UserWarning)\n",
            "/usr/local/lib/python3.10/dist-packages/xgboost/core.py:160: UserWarning: [22:25:56] WARNING: /workspace/src/learner.cc:742: \n",
            "Parameters: { \"gb__learning_rate\", \"gb__max_depth\", \"gb__n_estimators\" } are not used.\n",
            "\n",
            "  warnings.warn(smsg, UserWarning)\n",
            "/usr/local/lib/python3.10/dist-packages/xgboost/core.py:160: UserWarning: [22:25:57] WARNING: /workspace/src/learner.cc:742: \n",
            "Parameters: { \"gb__learning_rate\", \"gb__max_depth\", \"gb__n_estimators\" } are not used.\n",
            "\n",
            "  warnings.warn(smsg, UserWarning)\n",
            "/usr/local/lib/python3.10/dist-packages/xgboost/core.py:160: UserWarning: [22:25:58] WARNING: /workspace/src/learner.cc:742: \n",
            "Parameters: { \"gb__learning_rate\", \"gb__max_depth\", \"gb__n_estimators\" } are not used.\n",
            "\n",
            "  warnings.warn(smsg, UserWarning)\n"
          ]
        },
        {
          "output_type": "stream",
          "name": "stdout",
          "text": [
            "Best Parameters: {'gb__learning_rate': 0.01, 'gb__max_depth': 3, 'gb__n_estimators': 100}\n",
            "Best CV RMSE: 1.4760\n",
            "Test: 0.9561062548991788\n",
            "\n",
            "Mean Absolute Error = 1.0751832135225259,\n",
            "Mean Squared Error = 2.1755292620240234,\n",
            "Root Mean Squared Error = 1.4749675460917855,\n",
            "R2 Score = 0.954425974140603\n",
            "\n",
            "Test Score: 0.9561062548991788\n"
          ]
        }
      ]
    },
    {
      "cell_type": "code",
      "execution_count": 292,
      "id": "po-F-ieF_0Ao",
      "metadata": {
        "id": "po-F-ieF_0Ao",
        "colab": {
          "base_uri": "https://localhost:8080/"
        },
        "outputId": "f4f0833a-954d-4389-ca67-18c38f150954"
      },
      "outputs": [
        {
          "output_type": "stream",
          "name": "stdout",
          "text": [
            "\n",
            "Mean Absolute Error = 1.320989451123486,\n",
            "Mean Squared Error = 3.0668703146625775,\n",
            "Root Mean Squared Error = 1.751248216176844,\n",
            "R2 Score = 0.9341223336306049\n",
            "          \n",
            "Test Score: 0.9381224485466894\n"
          ]
        }
      ],
      "source": [
        "#Stacking regressor to combine all the regressors used\n",
        "from sklearn.ensemble import StackingRegressor\n",
        "from sklearn.linear_model import LinearRegression\n",
        "model4 = LinearRegression()\n",
        "all_models = [('gb', model2), ('lr', model4)]\n",
        "meta_model = LinearRegression()\n",
        "stacking_model = StackingRegressor(estimators=all_models, final_estimator=meta_model, cv=5)\n",
        "stacking_model.fit(Xtrain,Ytrain)\n",
        "stack_test_score = stacking_model.score(Xtest, Ytest)\n",
        "stack_y_pred = stacking_model.predict(Xtest)\n",
        "\n",
        "print(f\"\"\"\n",
        "Mean Absolute Error = {mean_absolute_error(stack_y_pred,Ytest)},\n",
        "Mean Squared Error = {mean_squared_error(stack_y_pred,Ytest)},\n",
        "Root Mean Squared Error = {np.sqrt(mean_squared_error(stack_y_pred,Ytest))},\n",
        "R2 Score = {r2_score(stack_y_pred, Ytest)}\n",
        "          \"\"\")\n",
        "print(f\"Test Score: {stack_test_score}\")\n"
      ]
    },
    {
      "cell_type": "markdown",
      "id": "lD39BnGh3EhG",
      "metadata": {
        "id": "lD39BnGh3EhG"
      },
      "source": [
        "# Question 5"
      ]
    },
    {
      "cell_type": "code",
      "execution_count": 293,
      "id": "-Ev9qk7V23p_",
      "metadata": {
        "id": "-Ev9qk7V23p_",
        "colab": {
          "base_uri": "https://localhost:8080/"
        },
        "outputId": "0a548a46-f96c-4815-89d2-76d38d4c01d9"
      },
      "outputs": [
        {
          "output_type": "stream",
          "name": "stderr",
          "text": [
            "<ipython-input-293-c28711c7bce8>:1: DtypeWarning: Columns (25,108) have mixed types. Specify dtype option on import or set low_memory=False.\n",
            "  player_22 = pd.read_csv('/content/drive/MyDrive/FIFA 2023/players_22.csv')\n"
          ]
        }
      ],
      "source": [
        "player_22 = pd.read_csv('/content/drive/MyDrive/FIFA 2023/players_22.csv')"
      ]
    },
    {
      "cell_type": "code",
      "execution_count": 294,
      "id": "e7l6uTTO35X7",
      "metadata": {
        "id": "e7l6uTTO35X7"
      },
      "outputs": [],
      "source": [
        "testX = player_22[['movement_reactions','potential','passing','wage_eur',\n",
        "             'value_eur','dribbling','attacking_short_passing','mentality_composure',\n",
        "             'mentality_vision', 'international_reputation']]"
      ]
    },
    {
      "cell_type": "code",
      "execution_count": 295,
      "id": "NvbNHbkL4jfL",
      "metadata": {
        "id": "NvbNHbkL4jfL"
      },
      "outputs": [],
      "source": [
        "testy =  player_22[['overall']]"
      ]
    },
    {
      "cell_type": "code",
      "execution_count": 297,
      "id": "pS6jNNbv49lx",
      "metadata": {
        "id": "pS6jNNbv49lx"
      },
      "outputs": [],
      "source": [
        "test_numeric_data= testX.select_dtypes(include=['int64','float64'])"
      ]
    },
    {
      "cell_type": "code",
      "execution_count": 298,
      "id": "bZZgJ_-_4tRk",
      "metadata": {
        "id": "bZZgJ_-_4tRk"
      },
      "outputs": [],
      "source": [
        "sc_test = SimpleImputer(strategy='median')\n",
        "test_numeric_data_filled = sc_test.fit_transform(test_numeric_data)"
      ]
    },
    {
      "cell_type": "code",
      "execution_count": 299,
      "id": "ykDhbs627BTC",
      "metadata": {
        "id": "ykDhbs627BTC"
      },
      "outputs": [],
      "source": [
        "test_numeric_data_df = pd.DataFrame(test_numeric_data_filled, columns=test_numeric_data.columns)"
      ]
    },
    {
      "cell_type": "code",
      "execution_count": 300,
      "id": "yerHbwxw9RQv",
      "metadata": {
        "id": "yerHbwxw9RQv"
      },
      "outputs": [],
      "source": [
        "testX = test_numeric_data_df"
      ]
    },
    {
      "cell_type": "code",
      "execution_count": 301,
      "id": "jnfCkeFm9WAP",
      "metadata": {
        "id": "jnfCkeFm9WAP"
      },
      "outputs": [],
      "source": [
        "testy = player_22[['overall']]"
      ]
    },
    {
      "cell_type": "code",
      "source": [
        "a = pd.concat([testy,testX], axis = 1)"
      ],
      "metadata": {
        "id": "XmWXyK49VSqD"
      },
      "id": "XmWXyK49VSqD",
      "execution_count": 302,
      "outputs": []
    },
    {
      "cell_type": "code",
      "execution_count": 303,
      "id": "UOzzj5F_8FuN",
      "metadata": {
        "id": "UOzzj5F_8FuN"
      },
      "outputs": [],
      "source": [
        "Xtrain1,Xtest1,Ytrain1,Ytest1 = train_test_split(testX,testy,test_size=0.2, random_state=42)"
      ]
    },
    {
      "cell_type": "code",
      "source": [
        "best_model"
      ],
      "metadata": {
        "colab": {
          "base_uri": "https://localhost:8080/",
          "height": 248
        },
        "id": "89f29EgUNxan",
        "outputId": "4063f5e5-591c-401d-f4b6-12daf48b7ace"
      },
      "id": "89f29EgUNxan",
      "execution_count": 307,
      "outputs": [
        {
          "output_type": "execute_result",
          "data": {
            "text/plain": [
              "XGBRegressor(base_score=None, booster=None, callbacks=None,\n",
              "             colsample_bylevel=None, colsample_bynode=None,\n",
              "             colsample_bytree=None, device=None, early_stopping_rounds=None,\n",
              "             enable_categorical=False, eval_metric=None, feature_types=None,\n",
              "             gamma=None, gb__learning_rate=0.01, gb__max_depth=3,\n",
              "             gb__n_estimators=100, grow_policy=None, importance_type=None,\n",
              "             interaction_constraints=None, learning_rate=None, max_bin=None,\n",
              "             max_cat_threshold=None, max_cat_to_onehot=None,\n",
              "             max_delta_step=None, max_depth=None, max_leaves=None,\n",
              "             min_child_weight=None, missing=nan, monotone_constraints=None,\n",
              "             multi_strategy=None, n_estimators=None, ...)"
            ],
            "text/html": [
              "<style>#sk-container-id-1 {color: black;background-color: white;}#sk-container-id-1 pre{padding: 0;}#sk-container-id-1 div.sk-toggleable {background-color: white;}#sk-container-id-1 label.sk-toggleable__label {cursor: pointer;display: block;width: 100%;margin-bottom: 0;padding: 0.3em;box-sizing: border-box;text-align: center;}#sk-container-id-1 label.sk-toggleable__label-arrow:before {content: \"▸\";float: left;margin-right: 0.25em;color: #696969;}#sk-container-id-1 label.sk-toggleable__label-arrow:hover:before {color: black;}#sk-container-id-1 div.sk-estimator:hover label.sk-toggleable__label-arrow:before {color: black;}#sk-container-id-1 div.sk-toggleable__content {max-height: 0;max-width: 0;overflow: hidden;text-align: left;background-color: #f0f8ff;}#sk-container-id-1 div.sk-toggleable__content pre {margin: 0.2em;color: black;border-radius: 0.25em;background-color: #f0f8ff;}#sk-container-id-1 input.sk-toggleable__control:checked~div.sk-toggleable__content {max-height: 200px;max-width: 100%;overflow: auto;}#sk-container-id-1 input.sk-toggleable__control:checked~label.sk-toggleable__label-arrow:before {content: \"▾\";}#sk-container-id-1 div.sk-estimator input.sk-toggleable__control:checked~label.sk-toggleable__label {background-color: #d4ebff;}#sk-container-id-1 div.sk-label input.sk-toggleable__control:checked~label.sk-toggleable__label {background-color: #d4ebff;}#sk-container-id-1 input.sk-hidden--visually {border: 0;clip: rect(1px 1px 1px 1px);clip: rect(1px, 1px, 1px, 1px);height: 1px;margin: -1px;overflow: hidden;padding: 0;position: absolute;width: 1px;}#sk-container-id-1 div.sk-estimator {font-family: monospace;background-color: #f0f8ff;border: 1px dotted black;border-radius: 0.25em;box-sizing: border-box;margin-bottom: 0.5em;}#sk-container-id-1 div.sk-estimator:hover {background-color: #d4ebff;}#sk-container-id-1 div.sk-parallel-item::after {content: \"\";width: 100%;border-bottom: 1px solid gray;flex-grow: 1;}#sk-container-id-1 div.sk-label:hover label.sk-toggleable__label {background-color: #d4ebff;}#sk-container-id-1 div.sk-serial::before {content: \"\";position: absolute;border-left: 1px solid gray;box-sizing: border-box;top: 0;bottom: 0;left: 50%;z-index: 0;}#sk-container-id-1 div.sk-serial {display: flex;flex-direction: column;align-items: center;background-color: white;padding-right: 0.2em;padding-left: 0.2em;position: relative;}#sk-container-id-1 div.sk-item {position: relative;z-index: 1;}#sk-container-id-1 div.sk-parallel {display: flex;align-items: stretch;justify-content: center;background-color: white;position: relative;}#sk-container-id-1 div.sk-item::before, #sk-container-id-1 div.sk-parallel-item::before {content: \"\";position: absolute;border-left: 1px solid gray;box-sizing: border-box;top: 0;bottom: 0;left: 50%;z-index: -1;}#sk-container-id-1 div.sk-parallel-item {display: flex;flex-direction: column;z-index: 1;position: relative;background-color: white;}#sk-container-id-1 div.sk-parallel-item:first-child::after {align-self: flex-end;width: 50%;}#sk-container-id-1 div.sk-parallel-item:last-child::after {align-self: flex-start;width: 50%;}#sk-container-id-1 div.sk-parallel-item:only-child::after {width: 0;}#sk-container-id-1 div.sk-dashed-wrapped {border: 1px dashed gray;margin: 0 0.4em 0.5em 0.4em;box-sizing: border-box;padding-bottom: 0.4em;background-color: white;}#sk-container-id-1 div.sk-label label {font-family: monospace;font-weight: bold;display: inline-block;line-height: 1.2em;}#sk-container-id-1 div.sk-label-container {text-align: center;}#sk-container-id-1 div.sk-container {/* jupyter's `normalize.less` sets `[hidden] { display: none; }` but bootstrap.min.css set `[hidden] { display: none !important; }` so we also need the `!important` here to be able to override the default hidden behavior on the sphinx rendered scikit-learn.org. See: https://github.com/scikit-learn/scikit-learn/issues/21755 */display: inline-block !important;position: relative;}#sk-container-id-1 div.sk-text-repr-fallback {display: none;}</style><div id=\"sk-container-id-1\" class=\"sk-top-container\"><div class=\"sk-text-repr-fallback\"><pre>XGBRegressor(base_score=None, booster=None, callbacks=None,\n",
              "             colsample_bylevel=None, colsample_bynode=None,\n",
              "             colsample_bytree=None, device=None, early_stopping_rounds=None,\n",
              "             enable_categorical=False, eval_metric=None, feature_types=None,\n",
              "             gamma=None, gb__learning_rate=0.01, gb__max_depth=3,\n",
              "             gb__n_estimators=100, grow_policy=None, importance_type=None,\n",
              "             interaction_constraints=None, learning_rate=None, max_bin=None,\n",
              "             max_cat_threshold=None, max_cat_to_onehot=None,\n",
              "             max_delta_step=None, max_depth=None, max_leaves=None,\n",
              "             min_child_weight=None, missing=nan, monotone_constraints=None,\n",
              "             multi_strategy=None, n_estimators=None, ...)</pre><b>In a Jupyter environment, please rerun this cell to show the HTML representation or trust the notebook. <br />On GitHub, the HTML representation is unable to render, please try loading this page with nbviewer.org.</b></div><div class=\"sk-container\" hidden><div class=\"sk-item\"><div class=\"sk-estimator sk-toggleable\"><input class=\"sk-toggleable__control sk-hidden--visually\" id=\"sk-estimator-id-1\" type=\"checkbox\" checked><label for=\"sk-estimator-id-1\" class=\"sk-toggleable__label sk-toggleable__label-arrow\">XGBRegressor</label><div class=\"sk-toggleable__content\"><pre>XGBRegressor(base_score=None, booster=None, callbacks=None,\n",
              "             colsample_bylevel=None, colsample_bynode=None,\n",
              "             colsample_bytree=None, device=None, early_stopping_rounds=None,\n",
              "             enable_categorical=False, eval_metric=None, feature_types=None,\n",
              "             gamma=None, gb__learning_rate=0.01, gb__max_depth=3,\n",
              "             gb__n_estimators=100, grow_policy=None, importance_type=None,\n",
              "             interaction_constraints=None, learning_rate=None, max_bin=None,\n",
              "             max_cat_threshold=None, max_cat_to_onehot=None,\n",
              "             max_delta_step=None, max_depth=None, max_leaves=None,\n",
              "             min_child_weight=None, missing=nan, monotone_constraints=None,\n",
              "             multi_strategy=None, n_estimators=None, ...)</pre></div></div></div></div></div>"
            ]
          },
          "metadata": {},
          "execution_count": 307
        }
      ]
    },
    {
      "cell_type": "code",
      "source": [
        "test_y_pred = model1.predict(Xtest1)\n",
        "print(f\"\"\"\n",
        "Mean Absolute Error = {mean_absolute_error(Ytest1, test_y_pred)},\n",
        "Mean Squared Error = {mean_squared_error(Ytest1, test_y_pred)},\n",
        "Root Mean Squared Error = {np.sqrt(mean_squared_error(Ytest1, test_y_pred))},\n",
        "R2 Score = {r2_score(Ytest1, test_y_pred)}\n",
        "          \"\"\")"
      ],
      "metadata": {
        "colab": {
          "base_uri": "https://localhost:8080/"
        },
        "id": "GXePHt9s8Rfp",
        "outputId": "59417395-c892-4091-a93a-c3f17bc44eb6"
      },
      "id": "GXePHt9s8Rfp",
      "execution_count": 308,
      "outputs": [
        {
          "output_type": "stream",
          "name": "stdout",
          "text": [
            "\n",
            "Mean Absolute Error = 1.0875320434570312,\n",
            "Mean Squared Error = 2.196666435959827,\n",
            "Root Mean Squared Error = 1.4821155271974675,\n",
            "R2 Score = 0.9530608050654242\n",
            "          \n"
          ]
        }
      ]
    },
    {
      "cell_type": "code",
      "source": [
        "import joblib\n",
        "joblib.dump(best_model, 'best_performing_model.pkl', compress = 9)"
      ],
      "metadata": {
        "colab": {
          "base_uri": "https://localhost:8080/"
        },
        "id": "AEQvgXiU1ymE",
        "outputId": "2467bdd3-4765-492a-b97e-b11829d635e9"
      },
      "id": "AEQvgXiU1ymE",
      "execution_count": 309,
      "outputs": [
        {
          "output_type": "execute_result",
          "data": {
            "text/plain": [
              "['best_performing_model.pkl']"
            ]
          },
          "metadata": {},
          "execution_count": 309
        }
      ]
    },
    {
      "cell_type": "code",
      "source": [],
      "metadata": {
        "id": "j-BUuQutBrDf"
      },
      "id": "j-BUuQutBrDf",
      "execution_count": null,
      "outputs": []
    }
  ],
  "metadata": {
    "colab": {
      "provenance": []
    },
    "kernelspec": {
      "display_name": "Python 3",
      "name": "python3"
    },
    "language_info": {
      "codemirror_mode": {
        "name": "ipython",
        "version": 3
      },
      "file_extension": ".py",
      "mimetype": "text/x-python",
      "name": "python",
      "nbconvert_exporter": "python",
      "pygments_lexer": "ipython3",
      "version": "3.11.7"
    }
  },
  "nbformat": 4,
  "nbformat_minor": 5
}